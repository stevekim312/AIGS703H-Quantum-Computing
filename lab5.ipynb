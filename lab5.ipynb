{
  "cells": [
    {
      "cell_type": "code",
      "execution_count": 5,
      "metadata": {
        "id": "0mej2ybvTA8h"
      },
      "outputs": [],
      "source": [
        "import numpy as np\n",
        "from qiskit import QuantumCircuit, transpile , QuantumRegister, ClassicalRegister\n",
        "from qiskit_aer import AerSimulator\n",
        "from qiskit.visualization import plot_histogram\n",
        "\n",
        "## for display\n",
        "from IPython.display import display"
      ]
    },
    {
      "cell_type": "code",
      "execution_count": 8,
      "metadata": {
        "colab": {
          "base_uri": "https://localhost:8080/",
          "height": 575
        },
        "id": "ZAOwU2koRtym",
        "outputId": "d0aca48f-e1d4-466a-af0c-1d8ca39d371f"
      },
      "outputs": [
        {
          "data": {
            "text/html": [
              "<pre style=\"word-wrap: normal;white-space: pre;background: #fff0;line-height: 1.1;font-family: &quot;Courier New&quot;,Courier,monospace\">           ░ ┌───┐ ░  ░ ┌───┐┌─┐\n",
              "  x: ──────░─┤ H ├─░──░─┤ H ├┤M├\n",
              "     ┌───┐ ░ ├───┤ ░  ░ └───┘└╥┘\n",
              "  y: ┤ X ├─░─┤ H ├─░──░───────╫─\n",
              "     └───┘ ░ └───┘ ░  ░       ║ \n",
              "c: 1/═════════════════════════╩═\n",
              "                              0 </pre>"
            ],
            "text/plain": [
              "           ░ ┌───┐ ░  ░ ┌───┐┌─┐\n",
              "  x: ──────░─┤ H ├─░──░─┤ H ├┤M├\n",
              "     ┌───┐ ░ ├───┤ ░  ░ └───┘└╥┘\n",
              "  y: ┤ X ├─░─┤ H ├─░──░───────╫─\n",
              "     └───┘ ░ └───┘ ░  ░       ║ \n",
              "c: 1/═════════════════════════╩═\n",
              "                              0 "
            ]
          },
          "metadata": {},
          "output_type": "display_data"
        },
        {
          "name": "stdout",
          "output_type": "stream",
          "text": [
            "the top qubit x:  {'0': 1}\n"
          ]
        },
        {
          "data": {
            "image/png": "[encoded data removed]",
            "text/plain": [
              "<Figure size 700x500 with 1 Axes>"
            ]
          },
          "execution_count": 8,
          "metadata": {},
          "output_type": "execute_result"
        }
      ],
      "source": [
        "x = QuantumRegister(1,'x')\n",
        "y = QuantumRegister(1,'y')\n",
        "c = ClassicalRegister(1, 'c')\n",
        "qc = QuantumCircuit(x,y,c)\n",
        "\n",
        "# set qubit y to 1\n",
        "qc.x(y)\n",
        "qc.barrier()\n",
        "\n",
        "# Apply H-gates for x and y\n",
        "qc.h(x)\n",
        "qc.h(y)\n",
        "\n",
        "qc.barrier()\n",
        "\n",
        "# f(x) is a constant 0 function; i.e. f(x) is always 0\n",
        "# hence, y xor f(x) is y xor 0 which yields y\n",
        "\n",
        "qc.barrier()\n",
        "\n",
        "# Apply the H-gate for the top qubit x\n",
        "qc.h(x)\n",
        "\n",
        "# Measure the top qubit, i.e. q0\n",
        "qc.measure(x,c)\n",
        "\n",
        "# Display circuit\n",
        "display(qc.draw())\n",
        "\n",
        "# use local simulator\n",
        "aer_sim = AerSimulator()\n",
        "results = aer_sim.run(qc,shots=1).result()\n",
        "answer = results.get_counts()\n",
        "\n",
        "print('the top qubit x: ', answer)\n",
        "\n",
        "plot_histogram(answer)"
      ]
    },
    {
      "cell_type": "markdown",
      "metadata": {
        "id": "CjbZ_7mWR0i6"
      },
      "source": [
        "x=0, it is a constant function (if output is 1 then it is not)\n",
        "\n"
      ]
    },
    {
      "cell_type": "code",
      "execution_count": 15,
      "metadata": {
        "colab": {
          "base_uri": "https://localhost:8080/",
          "height": 575
        },
        "id": "jsmuKHpGRzJP",
        "outputId": "04bd2a3f-b982-43bc-c47d-5e7542ffb027"
      },
      "outputs": [
        {
          "data": {
            "text/html": [
              "<pre style=\"word-wrap: normal;white-space: pre;background: #fff0;line-height: 1.1;font-family: &quot;Courier New&quot;,Courier,monospace\">           ░ ┌───┐ ░       ░ ┌───┐┌─┐\n",
              "  x: ──────░─┤ H ├─░───────░─┤ H ├┤M├\n",
              "     ┌───┐ ░ ├───┤ ░ ┌───┐ ░ └───┘└╥┘\n",
              "  y: ┤ X ├─░─┤ H ├─░─┤ X ├─░───────╫─\n",
              "     └───┘ ░ └───┘ ░ └───┘ ░       ║ \n",
              "c: 1/══════════════════════════════╩═\n",
              "                                   0 </pre>"
            ],
            "text/plain": [
              "           ░ ┌───┐ ░       ░ ┌───┐┌─┐\n",
              "  x: ──────░─┤ H ├─░───────░─┤ H ├┤M├\n",
              "     ┌───┐ ░ ├───┤ ░ ┌───┐ ░ └───┘└╥┘\n",
              "  y: ┤ X ├─░─┤ H ├─░─┤ X ├─░───────╫─\n",
              "     └───┘ ░ └───┘ ░ └───┘ ░       ║ \n",
              "c: 1/══════════════════════════════╩═\n",
              "                                   0 "
            ]
          },
          "metadata": {},
          "output_type": "display_data"
        },
        {
          "name": "stdout",
          "output_type": "stream",
          "text": [
            "the top qubit x:  {'0': 1}\n"
          ]
        },
        {
          "data": {
            "image/png": "[encoded data removed]",
            "text/plain": [
              "<Figure size 700x500 with 1 Axes>"
            ]
          },
          "execution_count": 15,
          "metadata": {},
          "output_type": "execute_result"
        }
      ],
      "source": [
        "x = QuantumRegister(1,'x')\n",
        "y = QuantumRegister(1,'y')\n",
        "c = ClassicalRegister(1, 'c')\n",
        "qc = QuantumCircuit(x,y,c)\n",
        "\n",
        "# set qubit y to 1\n",
        "qc.x(y)\n",
        "qc.barrier()\n",
        "\n",
        "# Apply H-gates for x and y\n",
        "qc.h(x)\n",
        "qc.h(y)\n",
        "\n",
        "qc.barrier()\n",
        "\n",
        "# f(x) is a constant 0 function; i.e. f(x) is always 0\n",
        "# hence, y xor f(x) is y xor 0 which yields y\n",
        "qc.x(y)\n",
        "\n",
        "qc.barrier()\n",
        "\n",
        "# Apply the H-gate for the top qubit x\n",
        "qc.h(x)\n",
        "\n",
        "# Measure the top qubit, i.e. q0\n",
        "qc.measure(x,c)\n",
        "\n",
        "# Display circuit\n",
        "display(qc.draw())\n",
        "\n",
        "# use local simulator\n",
        "aer_sim = AerSimulator()\n",
        "results = aer_sim.run(qc,shots=1).result()\n",
        "answer = results.get_counts()\n",
        "\n",
        "print('the top qubit x: ', answer)\n",
        "\n",
        "plot_histogram(answer)"
      ]
    },
    {
      "cell_type": "markdown",
      "metadata": {
        "id": "xUR0yJn7S2DP"
      },
      "source": [
        "result is 0, same constant function with phase flipped output, but the results are the same"
      ]
    },
    {
      "cell_type": "code",
      "execution_count": 16,
      "metadata": {
        "colab": {
          "base_uri": "https://localhost:8080/",
          "height": 575
        },
        "id": "pogdWCUESB9o",
        "outputId": "eb86b018-3e19-463a-ac4a-84e5fa60b7f6"
      },
      "outputs": [
        {
          "data": {
            "text/html": [
              "<pre style=\"word-wrap: normal;white-space: pre;background: #fff0;line-height: 1.1;font-family: &quot;Courier New&quot;,Courier,monospace\">           ░ ┌───┐ ░       ░ ┌───┐┌─┐\n",
              "  x: ──────░─┤ H ├─░───■───░─┤ H ├┤M├\n",
              "     ┌───┐ ░ ├───┤ ░ ┌─┴─┐ ░ └───┘└╥┘\n",
              "  y: ┤ X ├─░─┤ H ├─░─┤ X ├─░───────╫─\n",
              "     └───┘ ░ └───┘ ░ └───┘ ░       ║ \n",
              "c: 1/══════════════════════════════╩═\n",
              "                                   0 </pre>"
            ],
            "text/plain": [
              "           ░ ┌───┐ ░       ░ ┌───┐┌─┐\n",
              "  x: ──────░─┤ H ├─░───■───░─┤ H ├┤M├\n",
              "     ┌───┐ ░ ├───┤ ░ ┌─┴─┐ ░ └───┘└╥┘\n",
              "  y: ┤ X ├─░─┤ H ├─░─┤ X ├─░───────╫─\n",
              "     └───┘ ░ └───┘ ░ └───┘ ░       ║ \n",
              "c: 1/══════════════════════════════╩═\n",
              "                                   0 "
            ]
          },
          "metadata": {},
          "output_type": "display_data"
        },
        {
          "name": "stdout",
          "output_type": "stream",
          "text": [
            "the top qubit x:  {'1': 1}\n"
          ]
        },
        {
          "data": {
            "image/png": "[encoded data removed]",
            "text/plain": [
              "<Figure size 700x500 with 1 Axes>"
            ]
          },
          "execution_count": 16,
          "metadata": {},
          "output_type": "execute_result"
        }
      ],
      "source": [
        "x = QuantumRegister(1,'x')\n",
        "y = QuantumRegister(1,'y')\n",
        "c = ClassicalRegister(1, 'c')\n",
        "qc = QuantumCircuit(x,y,c)\n",
        "\n",
        "# set qubit y to 1\n",
        "qc.x(y)\n",
        "qc.barrier()\n",
        "\n",
        "# Apply H-gates for x and y\n",
        "qc.h(x)\n",
        "qc.h(y)\n",
        "\n",
        "qc.barrier()\n",
        "\n",
        "# f(x) is a constant 0 function; i.e. f(x) is always 0\n",
        "# hence, y xor f(x) is y xor 0 which yields y\n",
        "qc.cx(x,y)\n",
        "qc.barrier()\n",
        "\n",
        "# Apply the H-gate for the top qubit x\n",
        "qc.h(x)\n",
        "\n",
        "# Measure the top qubit, i.e. q0\n",
        "qc.measure(x,c)\n",
        "\n",
        "# Display circuit\n",
        "display(qc.draw())\n",
        "\n",
        "# use local simulator\n",
        "aer_sim = AerSimulator()\n",
        "results = aer_sim.run(qc,shots=1).result()\n",
        "answer = results.get_counts()\n",
        "\n",
        "print('the top qubit x: ', answer)\n",
        "\n",
        "plot_histogram(answer)"
      ]
    },
    {
      "cell_type": "markdown",
      "metadata": {
        "id": "S5LqN8VjTExq"
      },
      "source": [
        "x is 1, it is not a constant function"
      ]
    },
    {
      "cell_type": "code",
      "execution_count": 12,
      "metadata": {
        "colab": {
          "base_uri": "https://localhost:8080/",
          "height": 575
        },
        "id": "-Iaxsuw5TBh-",
        "outputId": "741e0b35-29bb-4a27-db61-a5685217c0ed"
      },
      "outputs": [
        {
          "data": {
            "text/html": [
              "<pre style=\"word-wrap: normal;white-space: pre;background: #fff0;line-height: 1.1;font-family: &quot;Courier New&quot;,Courier,monospace\">           ░ ┌───┐ ░ ┌───┐      ░ ┌───┐┌─┐\n",
              "  x: ──────░─┤ H ├─░─┤ X ├──■───░─┤ H ├┤M├\n",
              "     ┌───┐ ░ ├───┤ ░ └───┘┌─┴─┐ ░ └───┘└╥┘\n",
              "  y: ┤ X ├─░─┤ H ├─░──────┤ X ├─░───────╫─\n",
              "     └───┘ ░ └───┘ ░      └───┘ ░       ║ \n",
              "c: 1/═══════════════════════════════════╩═\n",
              "                                        0 </pre>"
            ],
            "text/plain": [
              "           ░ ┌───┐ ░ ┌───┐      ░ ┌───┐┌─┐\n",
              "  x: ──────░─┤ H ├─░─┤ X ├──■───░─┤ H ├┤M├\n",
              "     ┌───┐ ░ ├───┤ ░ └───┘┌─┴─┐ ░ └───┘└╥┘\n",
              "  y: ┤ X ├─░─┤ H ├─░──────┤ X ├─░───────╫─\n",
              "     └───┘ ░ └───┘ ░      └───┘ ░       ║ \n",
              "c: 1/═══════════════════════════════════╩═\n",
              "                                        0 "
            ]
          },
          "metadata": {},
          "output_type": "display_data"
        },
        {
          "name": "stdout",
          "output_type": "stream",
          "text": [
            "the top qubit x:  {'1': 1}\n"
          ]
        },
        {
          "data": {
            "image/png": "[encoded data removed]",
            "text/plain": [
              "<Figure size 700x500 with 1 Axes>"
            ]
          },
          "execution_count": 12,
          "metadata": {},
          "output_type": "execute_result"
        }
      ],
      "source": [
        "x = QuantumRegister(1,'x')\n",
        "y = QuantumRegister(1,'y')\n",
        "c = ClassicalRegister(1, 'c')\n",
        "qc = QuantumCircuit(x,y,c)\n",
        "\n",
        "# set qubit y to 1\n",
        "qc.x(y)\n",
        "qc.barrier()\n",
        "\n",
        "# Apply H-gates for x and y\n",
        "qc.h(x)\n",
        "qc.h(y)\n",
        "\n",
        "qc.barrier()\n",
        "\n",
        "# f(x) is a constant 0 function; i.e. f(x) is always 0\n",
        "# hence, y xor f(x) is y xor 0 which yields y\n",
        "qc.x(x)\n",
        "qc.cx(x,y)\n",
        "qc.barrier()\n",
        "\n",
        "# Apply the H-gate for the top qubit x\n",
        "qc.h(x)\n",
        "\n",
        "# Measure the top qubit, i.e. q0\n",
        "qc.measure(x,c)\n",
        "\n",
        "# Display circuit\n",
        "display(qc.draw())\n",
        "\n",
        "# use local simulator\n",
        "aer_sim = AerSimulator()\n",
        "results = aer_sim.run(qc,shots=1).result()\n",
        "answer = results.get_counts()\n",
        "\n",
        "print('the top qubit x: ', answer)\n",
        "\n",
        "plot_histogram(answer)"
      ]
    },
    {
      "cell_type": "markdown",
      "metadata": {
        "id": "vlJhbDBUUUk5"
      },
      "source": [
        "xis 1, an X gate is added to the x qubit but doesnt make much difference, not a constant function but phase flipped"
      ]
    },
    {
      "cell_type": "code",
      "execution_count": 17,
      "metadata": {
        "colab": {
          "base_uri": "https://localhost:8080/",
          "height": 660
        },
        "id": "7gPzB-a1UJ9X",
        "outputId": "1d5dbe89-0fac-4bc3-a915-2b5b1480215c"
      },
      "outputs": [
        {
          "data": {
            "text/html": [
              "<pre style=\"word-wrap: normal;white-space: pre;background: #fff0;line-height: 1.1;font-family: &quot;Courier New&quot;,Courier,monospace\">           ░ ┌───┐ ░  ░ ┌───┐┌─┐      \n",
              "x_0: ──────░─┤ H ├─░──░─┤ H ├┤M├──────\n",
              "           ░ ├───┤ ░  ░ ├───┤└╥┘┌─┐   \n",
              "x_1: ──────░─┤ H ├─░──░─┤ H ├─╫─┤M├───\n",
              "           ░ ├───┤ ░  ░ ├───┤ ║ └╥┘┌─┐\n",
              "x_2: ──────░─┤ H ├─░──░─┤ H ├─╫──╫─┤M├\n",
              "     ┌───┐ ░ ├───┤ ░  ░ └───┘ ║  ║ └╥┘\n",
              "  y: ┤ X ├─░─┤ H ├─░──░───────╫──╫──╫─\n",
              "     └───┘ ░ └───┘ ░  ░       ║  ║  ║ \n",
              "c: 3/═════════════════════════╩══╩══╩═\n",
              "                              0  1  2 </pre>"
            ],
            "text/plain": [
              "           ░ ┌───┐ ░  ░ ┌───┐┌─┐      \n",
              "x_0: ──────░─┤ H ├─░──░─┤ H ├┤M├──────\n",
              "           ░ ├───┤ ░  ░ ├───┤└╥┘┌─┐   \n",
              "x_1: ──────░─┤ H ├─░──░─┤ H ├─╫─┤M├───\n",
              "           ░ ├───┤ ░  ░ ├───┤ ║ └╥┘┌─┐\n",
              "x_2: ──────░─┤ H ├─░──░─┤ H ├─╫──╫─┤M├\n",
              "     ┌───┐ ░ ├───┤ ░  ░ └───┘ ║  ║ └╥┘\n",
              "  y: ┤ X ├─░─┤ H ├─░──░───────╫──╫──╫─\n",
              "     └───┘ ░ └───┘ ░  ░       ║  ║  ║ \n",
              "c: 3/═════════════════════════╩══╩══╩═\n",
              "                              0  1  2 "
            ]
          },
          "metadata": {},
          "output_type": "display_data"
        },
        {
          "name": "stdout",
          "output_type": "stream",
          "text": [
            "the top qubit:  {'000': 1000}\n"
          ]
        },
        {
          "data": {
            "image/png": "[encoded data removed]",
            "text/plain": [
              "<Figure size 700x500 with 1 Axes>"
            ]
          },
          "execution_count": 17,
          "metadata": {},
          "output_type": "execute_result"
        }
      ],
      "source": [
        "n = 3\n",
        "x = QuantumRegister(n,'x')\n",
        "y = QuantumRegister(1,'y')\n",
        "c = ClassicalRegister(n, 'c')\n",
        "qc = QuantumCircuit(x,y,c)\n",
        "\n",
        "# set qubit y to 1\n",
        "qc.x(y)\n",
        "qc.barrier()\n",
        "\n",
        "# Apply H-gates for the top n-qubit x and y\n",
        "qc.h(x)\n",
        "qc.h(y)\n",
        "\n",
        "qc.barrier()\n",
        "\n",
        "# f(x) is a constant 0 function; i.e. f(x) is always 0\n",
        "# hence, y xor f(x) is y xor 0 which yields y\n",
        "\n",
        "qc.barrier()\n",
        "\n",
        "# Apply the H-gate for the top n-qubit x\n",
        "qc.h(x)\n",
        "\n",
        "# Measure the top n qubits\n",
        "qc.measure(x,c)\n",
        "\n",
        "# Display circuit\n",
        "display(qc.draw())\n",
        "\n",
        "# use local simulator\n",
        "aer_sim = AerSimulator()\n",
        "results = aer_sim.run(qc,shots=1000).result()\n",
        "answer = results.get_counts()\n",
        "\n",
        "print('the top qubit: ', answer)\n",
        "\n",
        "plot_histogram(answer)"
      ]
    },
    {
      "cell_type": "markdown",
      "metadata": {
        "id": "CJ_5vwqrU1y7"
      },
      "source": [
        "output is 000"
      ]
    },
    {
      "cell_type": "code",
      "execution_count": 18,
      "metadata": {
        "colab": {
          "base_uri": "https://localhost:8080/",
          "height": 660
        },
        "id": "BZOWYtlMUw-e",
        "outputId": "a1ff3d5b-57ae-482c-b670-087430f588b1"
      },
      "outputs": [
        {
          "data": {
            "text/html": [
              "<pre style=\"word-wrap: normal;white-space: pre;background: #fff0;line-height: 1.1;font-family: &quot;Courier New&quot;,Courier,monospace\">           ░ ┌───┐ ░ ┌───┐ ░ ┌───┐┌─┐      \n",
              "x_0: ──────░─┤ H ├─░─┤ X ├─░─┤ H ├┤M├──────\n",
              "           ░ ├───┤ ░ ├───┤ ░ ├───┤└╥┘┌─┐   \n",
              "x_1: ──────░─┤ H ├─░─┤ X ├─░─┤ H ├─╫─┤M├───\n",
              "           ░ ├───┤ ░ ├───┤ ░ ├───┤ ║ └╥┘┌─┐\n",
              "x_2: ──────░─┤ H ├─░─┤ X ├─░─┤ H ├─╫──╫─┤M├\n",
              "     ┌───┐ ░ ├───┤ ░ └───┘ ░ └───┘ ║  ║ └╥┘\n",
              "  y: ┤ X ├─░─┤ H ├─░───────░───────╫──╫──╫─\n",
              "     └───┘ ░ └───┘ ░       ░       ║  ║  ║ \n",
              "c: 3/══════════════════════════════╩══╩══╩═\n",
              "                                   0  1  2 </pre>"
            ],
            "text/plain": [
              "           ░ ┌───┐ ░ ┌───┐ ░ ┌───┐┌─┐      \n",
              "x_0: ──────░─┤ H ├─░─┤ X ├─░─┤ H ├┤M├──────\n",
              "           ░ ├───┤ ░ ├───┤ ░ ├───┤└╥┘┌─┐   \n",
              "x_1: ──────░─┤ H ├─░─┤ X ├─░─┤ H ├─╫─┤M├───\n",
              "           ░ ├───┤ ░ ├───┤ ░ ├───┤ ║ └╥┘┌─┐\n",
              "x_2: ──────░─┤ H ├─░─┤ X ├─░─┤ H ├─╫──╫─┤M├\n",
              "     ┌───┐ ░ ├───┤ ░ └───┘ ░ └───┘ ║  ║ └╥┘\n",
              "  y: ┤ X ├─░─┤ H ├─░───────░───────╫──╫──╫─\n",
              "     └───┘ ░ └───┘ ░       ░       ║  ║  ║ \n",
              "c: 3/══════════════════════════════╩══╩══╩═\n",
              "                                   0  1  2 "
            ]
          },
          "metadata": {},
          "output_type": "display_data"
        },
        {
          "name": "stdout",
          "output_type": "stream",
          "text": [
            "the top qubit:  {'000': 1000}\n"
          ]
        },
        {
          "data": {
            "image/png": "[encoded data removed]",
            "text/plain": [
              "<Figure size 700x500 with 1 Axes>"
            ]
          },
          "execution_count": 18,
          "metadata": {},
          "output_type": "execute_result"
        }
      ],
      "source": [
        "n = 3\n",
        "x = QuantumRegister(n,'x')\n",
        "y = QuantumRegister(1,'y')\n",
        "c = ClassicalRegister(n, 'c')\n",
        "qc = QuantumCircuit(x,y,c)\n",
        "\n",
        "# set qubit y to 1\n",
        "qc.x(y)\n",
        "qc.barrier()\n",
        "\n",
        "# Apply H-gates for the top n-qubit x and y\n",
        "qc.h(x)\n",
        "qc.h(y)\n",
        "\n",
        "qc.barrier()\n",
        "\n",
        "# f(x) is a constant 0 function; i.e. f(x) is always 0\n",
        "# hence, y xor f(x) is y xor 0 which yields y\n",
        "qc.x(x)\n",
        "\n",
        "qc.barrier()\n",
        "\n",
        "# Apply the H-gate for the top n-qubit x\n",
        "qc.h(x)\n",
        "\n",
        "# Measure the top n qubits\n",
        "qc.measure(x,c)\n",
        "\n",
        "# Display circuit\n",
        "display(qc.draw())\n",
        "\n",
        "# use local simulator\n",
        "aer_sim = AerSimulator()\n",
        "results = aer_sim.run(qc,shots=1000).result()\n",
        "answer = results.get_counts()\n",
        "\n",
        "print('the top qubit: ', answer)\n",
        "\n",
        "plot_histogram(answer)\n"
      ]
    },
    {
      "cell_type": "markdown",
      "metadata": {
        "id": "7LCYSGgdXrrG"
      },
      "source": [
        "output is 000, constant function"
      ]
    },
    {
      "cell_type": "code",
      "execution_count": 19,
      "metadata": {
        "colab": {
          "base_uri": "https://localhost:8080/",
          "height": 661
        },
        "id": "ghZn7_zaWHUv",
        "outputId": "3957fd81-03f5-4cd4-f704-f0a05869903f"
      },
      "outputs": [
        {
          "data": {
            "text/html": [
              "<pre style=\"word-wrap: normal;white-space: pre;background: #fff0;line-height: 1.1;font-family: &quot;Courier New&quot;,Courier,monospace\">           ░ ┌───┐ ░                 ░ ┌───┐┌─┐      \n",
              "x_0: ──────░─┤ H ├─░───■─────────────░─┤ H ├┤M├──────\n",
              "           ░ ├───┤ ░   │             ░ ├───┤└╥┘┌─┐   \n",
              "x_1: ──────░─┤ H ├─░───┼────■────────░─┤ H ├─╫─┤M├───\n",
              "           ░ ├───┤ ░   │    │        ░ ├───┤ ║ └╥┘┌─┐\n",
              "x_2: ──────░─┤ H ├─░───┼────┼────■───░─┤ H ├─╫──╫─┤M├\n",
              "     ┌───┐ ░ ├───┤ ░ ┌─┴─┐┌─┴─┐┌─┴─┐ ░ └───┘ ║  ║ └╥┘\n",
              "  y: ┤ X ├─░─┤ H ├─░─┤ X ├┤ X ├┤ X ├─░───────╫──╫──╫─\n",
              "     └───┘ ░ └───┘ ░ └───┘└───┘└───┘ ░       ║  ║  ║ \n",
              "c: 3/════════════════════════════════════════╩══╩══╩═\n",
              "                                             0  1  2 </pre>"
            ],
            "text/plain": [
              "           ░ ┌───┐ ░                 ░ ┌───┐┌─┐      \n",
              "x_0: ──────░─┤ H ├─░───■─────────────░─┤ H ├┤M├──────\n",
              "           ░ ├───┤ ░   │             ░ ├───┤└╥┘┌─┐   \n",
              "x_1: ──────░─┤ H ├─░───┼────■────────░─┤ H ├─╫─┤M├───\n",
              "           ░ ├───┤ ░   │    │        ░ ├───┤ ║ └╥┘┌─┐\n",
              "x_2: ──────░─┤ H ├─░───┼────┼────■───░─┤ H ├─╫──╫─┤M├\n",
              "     ┌───┐ ░ ├───┤ ░ ┌─┴─┐┌─┴─┐┌─┴─┐ ░ └───┘ ║  ║ └╥┘\n",
              "  y: ┤ X ├─░─┤ H ├─░─┤ X ├┤ X ├┤ X ├─░───────╫──╫──╫─\n",
              "     └───┘ ░ └───┘ ░ └───┘└───┘└───┘ ░       ║  ║  ║ \n",
              "c: 3/════════════════════════════════════════╩══╩══╩═\n",
              "                                             0  1  2 "
            ]
          },
          "metadata": {},
          "output_type": "display_data"
        },
        {
          "name": "stdout",
          "output_type": "stream",
          "text": [
            "the top qubit:  {'111': 1000}\n"
          ]
        },
        {
          "data": {
            "image/png": "[encoded data removed]",
            "text/plain": [
              "<Figure size 700x500 with 1 Axes>"
            ]
          },
          "execution_count": 19,
          "metadata": {},
          "output_type": "execute_result"
        }
      ],
      "source": [
        "n = 3\n",
        "x = QuantumRegister(n,'x')\n",
        "y = QuantumRegister(1,'y')\n",
        "c = ClassicalRegister(n, 'c')\n",
        "qc = QuantumCircuit(x,y,c)\n",
        "\n",
        "# set qubit y to 1\n",
        "qc.x(y)\n",
        "qc.barrier()\n",
        "\n",
        "# Apply H-gates for the top n-qubit x and y\n",
        "qc.h(x)\n",
        "qc.h(y)\n",
        "\n",
        "qc.barrier()\n",
        "\n",
        "# f(x) is a constant 0 function; i.e. f(x) is always 0\n",
        "# hence, y xor f(x) is y xor 0 which yields y\n",
        "qc.cx(x[0], y)\n",
        "qc.cx(x[1], y)\n",
        "qc.cx(x[2], y)\n",
        "\n",
        "qc.barrier()\n",
        "\n",
        "# Apply the H-gate for the top n-qubit x\n",
        "qc.h(x)\n",
        "\n",
        "# Measure the top n qubits\n",
        "qc.measure(x,c)\n",
        "\n",
        "# Display circuit\n",
        "display(qc.draw())\n",
        "\n",
        "# use local simulator\n",
        "aer_sim = AerSimulator()\n",
        "results = aer_sim.run(qc,shots=1000).result()\n",
        "answer = results.get_counts()\n",
        "\n",
        "print('the top qubit: ', answer)\n",
        "\n",
        "plot_histogram(answer)\n"
      ]
    },
    {
      "cell_type": "markdown",
      "metadata": {
        "id": "EVlh9HpFYA1R"
      },
      "source": [
        "111s, because it is a balanced function, no 000"
      ]
    },
    {
      "cell_type": "code",
      "execution_count": 22,
      "metadata": {
        "colab": {
          "base_uri": "https://localhost:8080/",
          "height": 661
        },
        "id": "nPdTfycAX86o",
        "outputId": "1218cfd1-02f8-4200-afef-2453af5ed0a5"
      },
      "outputs": [
        {
          "data": {
            "text/html": [
              "<pre style=\"word-wrap: normal;white-space: pre;background: #fff0;line-height: 1.1;font-family: &quot;Courier New&quot;,Courier,monospace\">           ░ ┌───┐ ░            ░ ┌───┐┌─┐      \n",
              "x_0: ──────░─┤ H ├─░───■────────░─┤ H ├┤M├──────\n",
              "           ░ ├───┤ ░   │        ░ ├───┤└╥┘┌─┐   \n",
              "x_1: ──────░─┤ H ├─░───■────────░─┤ H ├─╫─┤M├───\n",
              "           ░ ├───┤ ░   │        ░ ├───┤ ║ └╥┘┌─┐\n",
              "x_2: ──────░─┤ H ├─░───┼────■───░─┤ H ├─╫──╫─┤M├\n",
              "     ┌───┐ ░ ├───┤ ░ ┌─┴─┐┌─┴─┐ ░ └───┘ ║  ║ └╥┘\n",
              "  y: ┤ X ├─░─┤ H ├─░─┤ X ├┤ X ├─░───────╫──╫──╫─\n",
              "     └───┘ ░ └───┘ ░ └───┘└───┘ ░       ║  ║  ║ \n",
              "c: 3/═══════════════════════════════════╩══╩══╩═\n",
              "                                        0  1  2 </pre>"
            ],
            "text/plain": [
              "           ░ ┌───┐ ░            ░ ┌───┐┌─┐      \n",
              "x_0: ──────░─┤ H ├─░───■────────░─┤ H ├┤M├──────\n",
              "           ░ ├───┤ ░   │        ░ ├───┤└╥┘┌─┐   \n",
              "x_1: ──────░─┤ H ├─░───■────────░─┤ H ├─╫─┤M├───\n",
              "           ░ ├───┤ ░   │        ░ ├───┤ ║ └╥┘┌─┐\n",
              "x_2: ──────░─┤ H ├─░───┼────■───░─┤ H ├─╫──╫─┤M├\n",
              "     ┌───┐ ░ ├───┤ ░ ┌─┴─┐┌─┴─┐ ░ └───┘ ║  ║ └╥┘\n",
              "  y: ┤ X ├─░─┤ H ├─░─┤ X ├┤ X ├─░───────╫──╫──╫─\n",
              "     └───┘ ░ └───┘ ░ └───┘└───┘ ░       ║  ║  ║ \n",
              "c: 3/═══════════════════════════════════╩══╩══╩═\n",
              "                                        0  1  2 "
            ]
          },
          "metadata": {},
          "output_type": "display_data"
        },
        {
          "name": "stdout",
          "output_type": "stream",
          "text": [
            "the top qubit:  {'111': 236, '100': 265, '110': 277, '101': 222}\n"
          ]
        },
        {
          "data": {
            "image/png": "[encoded data removed]",
            "text/plain": [
              "<Figure size 700x500 with 1 Axes>"
            ]
          },
          "execution_count": 22,
          "metadata": {},
          "output_type": "execute_result"
        }
      ],
      "source": [
        "n = 3\n",
        "x = QuantumRegister(n,'x')\n",
        "y = QuantumRegister(1,'y')\n",
        "c = ClassicalRegister(n, 'c')\n",
        "qc = QuantumCircuit(x,y,c)\n",
        "\n",
        "# set qubit y to 1\n",
        "qc.x(y)\n",
        "qc.barrier()\n",
        "\n",
        "# Apply H-gates for the top n-qubit x and y\n",
        "qc.h(x)\n",
        "qc.h(y)\n",
        "\n",
        "qc.barrier()\n",
        "\n",
        "# f(x) is a constant 0 function; i.e. f(x) is always 0\n",
        "# hence, y xor f(x) is y xor 0 which yields y\n",
        "qc.ccx(x[0],x[1], y)\n",
        "qc.cx(x[2], y)\n",
        "\n",
        "qc.barrier()\n",
        "\n",
        "# Apply the H-gate for the top n-qubit x\n",
        "qc.h(x)\n",
        "\n",
        "# Measure the top n qubits\n",
        "qc.measure(x,c)\n",
        "\n",
        "# Display circuit\n",
        "display(qc.draw())\n",
        "\n",
        "# use local simulator\n",
        "aer_sim = AerSimulator()\n",
        "results = aer_sim.run(qc,shots=1000).result()\n",
        "answer = results.get_counts()\n",
        "\n",
        "print('the top qubit: ', answer)\n",
        "\n",
        "plot_histogram(answer)\n"
      ]
    },
    {
      "cell_type": "markdown",
      "metadata": {
        "id": "pswyM5-wYVE9"
      },
      "source": [
        "If we draw the truth table, out of 8, 4 are 1 and 4 are 0 since \"and\" makes them half 0 and half1, and xor operations are also balanced\n",
        "\n",
        "The result is not 000, so it is balanced, not constant"
      ]
    },
    {
      "cell_type": "code",
      "execution_count": null,
      "metadata": {
        "id": "WMAjiKUwYrtO"
      },
      "outputs": [],
      "source": []
    },
    {
      "cell_type": "markdown",
      "metadata": {
        "id": "U1dTX2ZeZwq0"
      },
      "source": [
        "• If the black box is a constant function as in the Experiments 1, 2, and 5,\n",
        "\n",
        "a) Is there any wire connection between the qubit(s) x and qubit y ?\n",
        "No\n",
        "\n",
        "b) What is the initial value for the x qubit(s)?\n",
        "0\n",
        "\n",
        "c) Explain why the measured value for each x qubit(s) is 0.\n",
        "(Hint : How do the gates applied on each x qubit(s) work? Review the Experiment 2 in Lab2 )\n",
        "Phase kickback does not occur since they are not connected\n"
      ]
    },
    {
      "cell_type": "code",
      "execution_count": null,
      "metadata": {
        "id": "zQqka-WBZzd-"
      },
      "outputs": [],
      "source": []
    },
    {
      "cell_type": "markdown",
      "metadata": {
        "id": "XSMTkN7EaYDR"
      },
      "source": [
        " If the black box is a balanced function as in the Experiments 3, 4, 6 and 7,\n",
        "3\n",
        "\n",
        "d) Is there any connection via the CNOT gate between the qubit(s) x and qubit y ?\n",
        "Yes\n",
        "\n",
        "e) If the answer above is Yes, what happen if we put an H-gate for the corresponding x qubit and\n",
        "the qubit y? (Hint : Review the Experiment 7 in Lab3 )\n",
        "\n",
        "The phase kickback will occur\n",
        "\n",
        "f) What is the initial value for the y qubit before applying the H-gate?\n",
        "1\n",
        "\n",
        "g) Explain why the measured value for each x qubit(s) is not 0 (as in the Experiments 3 and 4) or\n",
        "not ’000’ (as in the Experiments 6 and 7).\n",
        "phase kickback occurs"
      ]
    },
    {
      "cell_type": "code",
      "execution_count": null,
      "metadata": {
        "id": "Y7GJ7P2oadWH"
      },
      "outputs": [],
      "source": []
    }
  ],
  "metadata": {
    "accelerator": "GPU",
    "colab": {
      "gpuType": "T4",
      "provenance": []
    },
    "kernelspec": {
      "display_name": "Python 3",
      "name": "python3"
    },
    "language_info": {
      "name": "python"
    }
  },
  "nbformat": 4,
  "nbformat_minor": 0
}
