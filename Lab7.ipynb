{
 "cells": [
  {
   "cell_type": "markdown",
   "metadata": {},
   "source": [
    "Experiement 1"
   ]
  },
  {
   "cell_type": "code",
   "execution_count": 1,
   "metadata": {
    "id": "Vj014dR-YK9F",
    "tags": []
   },
   "outputs": [],
   "source": [
    "# initialization\n",
    "import numpy as np\n",
    "\n",
    "# importing Qiskit\n",
    "# from qiskit import IBMQ\n",
    "from qiskit_aer import AerSimulator\n",
    "from qiskit import QuantumCircuit, transpile, quantum_info\n",
    "from qiskit import ClassicalRegister, QuantumRegister\n",
    "\n",
    "## for display\n",
    "from IPython.display import display\n",
    "\n",
    "# import basic plot tools\n",
    "from qiskit.visualization import plot_histogram"
   ]
  },
  {
   "cell_type": "code",
   "execution_count": 2,
   "metadata": {
    "id": "EQF5jVZVbObh",
    "tags": []
   },
   "outputs": [],
   "source": [
    "# reverse the bit sequence of the nb-bit integer t\n",
    "def rbits(t,nb):\n",
    "  m = nb-1\n",
    "  k = 0\n",
    "\n",
    "  while t > 0:\n",
    "    k |= (t & 1) << m\n",
    "    t >>= 1\n",
    "    m -= 1\n",
    "\n",
    "  return k\n",
    "\n",
    "# exchange the elements in the vector v based on the reverse bits of indices\n",
    "def rv(v,nb):\n",
    "  newv = np.copy(v)\n",
    "\n",
    "  for i in range(1<<nb):\n",
    "    ni = rbits(i,nb)\n",
    "    newv[i] = v[ni]\n",
    "\n",
    "  return newv\n",
    "\n",
    "# exchange the diagonal elements in the matrix m based on the reverse bits of indices\n",
    "def rdm(m, nb):\n",
    "  newm = np.copy(m)\n",
    "\n",
    "  for i in range(1<<nb):\n",
    "    ni = rbits(i,nb)\n",
    "    newm[i][i] = m[ni][ni]\n",
    "\n",
    "  return newm"
   ]
  },
  {
   "cell_type": "code",
   "execution_count": 4,
   "metadata": {
    "id": "iUUBRIQRYeRf",
    "tags": []
   },
   "outputs": [
    {
     "data": {
      "text/plain": [
       "array([[ 1.+0.j,  0.+0.j,  0.+0.j,  0.+0.j],\n",
       "       [ 0.+0.j,  1.+0.j,  0.+0.j,  0.+0.j],\n",
       "       [ 0.+0.j,  0.+0.j,  1.+0.j,  0.+0.j],\n",
       "       [ 0.+0.j,  0.+0.j,  0.+0.j, -1.+0.j]])"
      ]
     },
     "metadata": {},
     "output_type": "display_data"
    },
    {
     "data": {
      "text/plain": [
       "array([[-0.5+0.j,  0.5+0.j,  0.5+0.j,  0.5+0.j],\n",
       "       [ 0.5+0.j, -0.5+0.j,  0.5+0.j,  0.5+0.j],\n",
       "       [ 0.5+0.j,  0.5+0.j, -0.5+0.j,  0.5+0.j],\n",
       "       [ 0.5+0.j,  0.5+0.j,  0.5+0.j, -0.5+0.j]])"
      ]
     },
     "metadata": {},
     "output_type": "display_data"
    },
    {
     "data": {
      "image/png": "[encoded data removed]",
      "text/plain": [
       "<Figure size 872.572x200.667 with 1 Axes>"
      ]
     },
     "metadata": {},
     "output_type": "display_data"
    },
    {
     "data": {
      "text/plain": [
       "<qiskit.circuit.instructionset.InstructionSet at 0x7f49e00de890>"
      ]
     },
     "execution_count": 4,
     "metadata": {},
     "output_type": "execute_result"
    }
   ],
   "source": [
    "n = 2\n",
    "\n",
    "def Oracle(): ## select 11\n",
    "    oc = QuantumCircuit(n)\n",
    "\n",
    "  # cz: control q0, target q1\n",
    "    oc.cz(0, 1)\n",
    "    display(rdm(quantum_info.Operator(oc).data,n))\n",
    "    return oc\n",
    "\n",
    "def A(): ## amplitude amplification via fliiping around the mean\n",
    "    ac = QuantumCircuit(2)\n",
    "    ac.h(range(2))\n",
    "    ac.z(range(2))\n",
    "    ac.cz(0,1)\n",
    "    ac.h(range(2))\n",
    "    display(rdm(quantum_info.Operator(ac).data,n))\n",
    "    return ac\n",
    "\n",
    "qc = QuantumCircuit(n)\n",
    "\n",
    "qc.h(range(n))\n",
    "qc.barrier()\n",
    "\n",
    "# query the Oracle: phase inversion\n",
    "qc.compose(Oracle(),inplace=True)\n",
    "qc.barrier()\n",
    "\n",
    "# amplitude magnification\n",
    "qc.compose(A(),inplace=True)\n",
    "qc.barrier()\n",
    "\n",
    "# Draw the circuit\n",
    "display(qc.draw())\n",
    "\n",
    "# Do NOT call measure() because we want to see the probability amplitudes in the statevector\n",
    "qc.save_statevector()"
   ]
  },
  {
   "cell_type": "markdown",
   "metadata": {},
   "source": [
    "It matches the results\n",
    "Our Final vector is [0001] which corresponds with qubit 1\n",
    "The probability for each location is 0 except 11"
   ]
  },
  {
   "cell_type": "markdown",
   "metadata": {},
   "source": [
    "Experiment 2"
   ]
  },
  {
   "cell_type": "code",
   "execution_count": 5,
   "metadata": {
    "tags": []
   },
   "outputs": [],
   "source": [
    "# initialization\n",
    "import numpy as np\n",
    "\n",
    "# importing Qiskit\n",
    "# from qiskit import IBMQ\n",
    "from qiskit_aer import AerSimulator\n",
    "from qiskit import QuantumCircuit, transpile, quantum_info\n",
    "from qiskit import ClassicalRegister, QuantumRegister\n",
    "\n",
    "## for display\n",
    "from IPython.display import display\n",
    "\n",
    "# import basic plot tools\n",
    "from qiskit.visualization import plot_histogram"
   ]
  },
  {
   "cell_type": "code",
   "execution_count": 6,
   "metadata": {
    "tags": []
   },
   "outputs": [],
   "source": [
    "# reverse the bit sequence of the nb-bit integer t\n",
    "def rbits(t,nb):\n",
    "  m = nb-1\n",
    "  k = 0\n",
    "\n",
    "  while t > 0:\n",
    "    k |= (t & 1) << m\n",
    "    t >>= 1\n",
    "    m -= 1\n",
    "\n",
    "  return k\n",
    "\n",
    "# exchange the elements in the vector v based on the reverse bits of indices\n",
    "def rv(v,nb):\n",
    "  newv = np.copy(v)\n",
    "\n",
    "  for i in range(1<<nb):\n",
    "    ni = rbits(i,nb)\n",
    "    newv[i] = v[ni]\n",
    "\n",
    "  return newv\n",
    "\n",
    "# exchange the diagonal elements in the matrix m based on the reverse bits of indices\n",
    "def rdm(m, nb):\n",
    "  newm = np.copy(m)\n",
    "\n",
    "  for i in range(1<<nb):\n",
    "    ni = rbits(i,nb)\n",
    "    newm[i][i] = m[ni][ni]\n",
    "\n",
    "  return newm"
   ]
  },
  {
   "cell_type": "code",
   "execution_count": 7,
   "metadata": {
    "tags": []
   },
   "outputs": [
    {
     "data": {
      "text/plain": [
       "array([[ 1.+0.j,  0.+0.j,  0.+0.j,  0.+0.j],\n",
       "       [ 0.+0.j, -1.+0.j,  0.+0.j,  0.+0.j],\n",
       "       [ 0.+0.j,  0.+0.j,  1.+0.j,  0.+0.j],\n",
       "       [ 0.+0.j,  0.+0.j,  0.+0.j,  1.+0.j]])"
      ]
     },
     "metadata": {},
     "output_type": "display_data"
    },
    {
     "data": {
      "text/plain": [
       "array([[-0.5+0.j,  0.5+0.j,  0.5+0.j,  0.5+0.j],\n",
       "       [ 0.5+0.j, -0.5+0.j,  0.5+0.j,  0.5+0.j],\n",
       "       [ 0.5+0.j,  0.5+0.j, -0.5+0.j,  0.5+0.j],\n",
       "       [ 0.5+0.j,  0.5+0.j,  0.5+0.j, -0.5+0.j]])"
      ]
     },
     "metadata": {},
     "output_type": "display_data"
    },
    {
     "data": {
      "image/png": "[encoded data removed]",
      "text/plain": [
       "<Figure size 1039.79x200.667 with 1 Axes>"
      ]
     },
     "metadata": {},
     "output_type": "display_data"
    },
    {
     "data": {
      "text/plain": [
       "<qiskit.circuit.instructionset.InstructionSet at 0x7f49dfec9cc0>"
      ]
     },
     "execution_count": 7,
     "metadata": {},
     "output_type": "execute_result"
    }
   ],
   "source": [
    "n = 2\n",
    "\n",
    "def Oracle(): ## select 11\n",
    "    oc = QuantumCircuit(n)\n",
    "\n",
    "  # cz: control q0, target q1\n",
    "    oc.x(0)\n",
    "    oc.cz(0, 1)\n",
    "    oc.x(0)\n",
    "    display(rdm(quantum_info.Operator(oc).data,n))\n",
    "    return oc\n",
    "\n",
    "def A(): ## amplitude amplification via fliiping around the mean\n",
    "    ac = QuantumCircuit(2)\n",
    "    ac.h(range(2))\n",
    "    ac.z(range(2))\n",
    "    ac.cz(0,1)\n",
    "    ac.h(range(2))\n",
    "    display(rdm(quantum_info.Operator(ac).data,n))\n",
    "    return ac\n",
    "\n",
    "qc = QuantumCircuit(n)\n",
    "\n",
    "qc.h(range(n))\n",
    "qc.barrier()\n",
    "\n",
    "# query the Oracle: phase inversion\n",
    "qc.compose(Oracle(),inplace=True)\n",
    "qc.barrier()\n",
    "\n",
    "# amplitude magnification\n",
    "qc.compose(A(),inplace=True)\n",
    "qc.barrier()\n",
    "\n",
    "# Draw the circuit\n",
    "display(qc.draw())\n",
    "\n",
    "# Do NOT call measure() because we want to see the probability amplitudes in the statevector\n",
    "qc.save_statevector()"
   ]
  },
  {
   "cell_type": "markdown",
   "metadata": {},
   "source": [
    "It matches the results\n",
    "Our Final vector is [0100] which corresponds with qubit 01\n",
    "\n",
    "The probability for each location is 0 except 01"
   ]
  },
  {
   "cell_type": "markdown",
   "metadata": {},
   "source": [
    "Experiment 3"
   ]
  },
  {
   "cell_type": "code",
   "execution_count": 8,
   "metadata": {
    "tags": []
   },
   "outputs": [],
   "source": [
    "# initialization\n",
    "import numpy as np\n",
    "\n",
    "# importing Qiskit\n",
    "# from qiskit import IBMQ\n",
    "from qiskit_aer import AerSimulator\n",
    "from qiskit import QuantumCircuit, transpile, quantum_info\n",
    "from qiskit import ClassicalRegister, QuantumRegister\n",
    "\n",
    "## for display\n",
    "from IPython.display import display\n",
    "\n",
    "# import basic plot tools\n",
    "from qiskit.visualization import plot_histogram"
   ]
  },
  {
   "cell_type": "code",
   "execution_count": 9,
   "metadata": {
    "tags": []
   },
   "outputs": [],
   "source": [
    "# reverse the bit sequence of the nb-bit integer t\n",
    "def rbits(t,nb):\n",
    "  m = nb-1\n",
    "  k = 0\n",
    "\n",
    "  while t > 0:\n",
    "    k |= (t & 1) << m\n",
    "    t >>= 1\n",
    "    m -= 1\n",
    "\n",
    "  return k\n",
    "\n",
    "# exchange the elements in the vector v based on the reverse bits of indices\n",
    "def rv(v,nb):\n",
    "  newv = np.copy(v)\n",
    "\n",
    "  for i in range(1<<nb):\n",
    "    ni = rbits(i,nb)\n",
    "    newv[i] = v[ni]\n",
    "\n",
    "  return newv\n",
    "\n",
    "# exchange the diagonal elements in the matrix m based on the reverse bits of indices\n",
    "def rdm(m, nb):\n",
    "  newm = np.copy(m)\n",
    "\n",
    "  for i in range(1<<nb):\n",
    "    ni = rbits(i,nb)\n",
    "    newm[i][i] = m[ni][ni]\n",
    "\n",
    "  return newm"
   ]
  },
  {
   "cell_type": "code",
   "execution_count": 16,
   "metadata": {
    "tags": []
   },
   "outputs": [
    {
     "data": {
      "text/plain": [
       "array([[ 1.+0.j,  0.+0.j,  0.+0.j,  0.+0.j,  0.+0.j,  0.+0.j,  0.+0.j,\n",
       "         0.+0.j],\n",
       "       [ 0.+0.j,  1.+0.j,  0.+0.j,  0.+0.j,  0.+0.j,  0.+0.j,  0.+0.j,\n",
       "         0.+0.j],\n",
       "       [ 0.+0.j,  0.+0.j,  1.+0.j,  0.+0.j,  0.+0.j,  0.+0.j,  0.+0.j,\n",
       "         0.+0.j],\n",
       "       [ 0.+0.j,  0.+0.j,  0.+0.j,  1.+0.j,  0.+0.j,  0.+0.j,  0.+0.j,\n",
       "         0.+0.j],\n",
       "       [ 0.+0.j,  0.+0.j,  0.+0.j,  0.+0.j,  1.+0.j,  0.+0.j,  0.+0.j,\n",
       "         0.+0.j],\n",
       "       [ 0.+0.j,  0.+0.j,  0.+0.j,  0.+0.j,  0.+0.j,  1.+0.j,  0.+0.j,\n",
       "         0.+0.j],\n",
       "       [ 0.+0.j,  0.+0.j,  0.+0.j,  0.+0.j,  0.+0.j,  0.+0.j,  1.+0.j,\n",
       "         0.+0.j],\n",
       "       [ 0.+0.j,  0.+0.j,  0.+0.j,  0.+0.j,  0.+0.j,  0.+0.j,  0.+0.j,\n",
       "        -1.+0.j]])"
      ]
     },
     "metadata": {},
     "output_type": "display_data"
    },
    {
     "data": {
      "text/plain": [
       "array([[ 0.75+0.j, -0.25+0.j, -0.25+0.j, -0.25+0.j, -0.25+0.j, -0.25+0.j,\n",
       "        -0.25+0.j, -0.25+0.j],\n",
       "       [-0.25+0.j,  0.75+0.j, -0.25+0.j, -0.25+0.j, -0.25+0.j, -0.25+0.j,\n",
       "        -0.25+0.j, -0.25+0.j],\n",
       "       [-0.25+0.j, -0.25+0.j,  0.75+0.j, -0.25+0.j, -0.25+0.j, -0.25+0.j,\n",
       "        -0.25+0.j, -0.25+0.j],\n",
       "       [-0.25+0.j, -0.25+0.j, -0.25+0.j,  0.75+0.j, -0.25+0.j, -0.25+0.j,\n",
       "        -0.25+0.j, -0.25+0.j],\n",
       "       [-0.25+0.j, -0.25+0.j, -0.25+0.j, -0.25+0.j,  0.75+0.j, -0.25+0.j,\n",
       "        -0.25+0.j, -0.25+0.j],\n",
       "       [-0.25+0.j, -0.25+0.j, -0.25+0.j, -0.25+0.j, -0.25+0.j,  0.75+0.j,\n",
       "        -0.25+0.j, -0.25+0.j],\n",
       "       [-0.25+0.j, -0.25+0.j, -0.25+0.j, -0.25+0.j, -0.25+0.j, -0.25+0.j,\n",
       "         0.75+0.j, -0.25+0.j],\n",
       "       [-0.25+0.j, -0.25+0.j, -0.25+0.j, -0.25+0.j, -0.25+0.j, -0.25+0.j,\n",
       "        -0.25+0.j,  0.75+0.j]])"
      ]
     },
     "metadata": {},
     "output_type": "display_data"
    },
    {
     "data": {
      "image/png": "[encoded data removed]",
      "text/plain": [
       "<Figure size 705.552x284.278 with 1 Axes>"
      ]
     },
     "metadata": {},
     "output_type": "display_data"
    },
    {
     "data": {
      "text/plain": [
       "<qiskit.circuit.instructionset.InstructionSet at 0x7f49c9362260>"
      ]
     },
     "execution_count": 16,
     "metadata": {},
     "output_type": "execute_result"
    }
   ],
   "source": [
    "n = 3\n",
    "\n",
    "def Oracle(): ## select q0 q1 q2: 111\n",
    "    oc = QuantumCircuit(n)\n",
    "\n",
    "  # use ccx and H-gates to achieve ccz\n",
    "    oc.h(2)\n",
    "    oc.ccx(0,1,2)\n",
    "    oc.h(2)\n",
    "    display(rdm(quantum_info.Operator(oc).data,n))\n",
    "    return oc\n",
    "\n",
    "def A(nb): ## amplitude amplification via fliiping around the mean\n",
    "    ac = QuantumCircuit(nb)\n",
    "    ac.h(range(nb))\n",
    "    ac.x(range(nb))\n",
    "  # Do multi-controlled-Z gate\n",
    "    ac.h(nb-1)\n",
    "    ac.mcx(list(range(nb-1)), nb-1) # multi-controlled\n",
    "    ac.h(nb-1)\n",
    "    ac.x(range(nb))\n",
    "    ac.h(range(nb))\n",
    "    display(rdm(quantum_info.Operator(ac).data,n))\n",
    "    return ac\n",
    "\n",
    "qc = QuantumCircuit(n)\n",
    "\n",
    "qc.h(range(n))\n",
    "\n",
    "# construct the Oracle_Amplication circuits\n",
    "OA = QuantumCircuit(n)\n",
    "\n",
    "# query the Oracle\n",
    "OA.compose(Oracle(), inplace=True)\n",
    "\n",
    "# amplitude magnification\n",
    "OA.compose(A(n),inplace=True)\n",
    "\n",
    "# put the OA after the H-gates\n",
    "#qc.compose(OA,inplace=True)\n",
    "qc.compose( OA.repeat(3), inplace=True)\n",
    "\n",
    "# Draw the circuit\n",
    "display(qc.draw())\n",
    "\n",
    "# Do NOT call measure() because we want to see the probability amplitudes in the statevector\n",
    "#display(rdm(quantum_info.Operator(qc).data,n))\n",
    "qc.save_statevector()\n"
   ]
  },
  {
   "cell_type": "markdown",
   "metadata": {},
   "source": [
    "Probability amplitudes are 0.265 and 0.088\n",
    "\n",
    "Our Final vector is [00000001] which corresponds with qubit 111\n",
    "\n",
    "when we increase the iteration value, the probability of getting the answer decreases"
   ]
  },
  {
   "cell_type": "markdown",
   "metadata": {
    "id": "mugb5KicKs7G"
   },
   "source": [
    "# Run on the simulator"
   ]
  },
  {
   "cell_type": "code",
   "execution_count": 17,
   "metadata": {
    "id": "AIAGEFhsKsIR",
    "tags": []
   },
   "outputs": [
    {
     "name": "stdout",
     "output_type": "stream",
     "text": [
      "[ 0.30935922-4.27565803e-16j  0.30935922-4.32978028e-16j\n",
      "  0.30935922-4.38390253e-16j  0.30935922-4.76275831e-16j\n",
      "  0.30935922-4.38390253e-16j  0.30935922-4.76275831e-16j\n",
      "  0.30935922-4.70863606e-16j -0.57452426+8.01009352e-16j]\n",
      "{'000': 0.095703125, '100': 0.095703125, '010': 0.095703125, '110': 0.095703125, '001': 0.095703125, '101': 0.095703125, '011': 0.095703125, '111': 0.330078125000001}\n"
     ]
    },
    {
     "data": {
      "image/png": "[encoded data removed]",
      "text/plain": [
       "<Figure size 700x500 with 1 Axes>"
      ]
     },
     "execution_count": 17,
     "metadata": {},
     "output_type": "execute_result"
    }
   ],
   "source": [
    "# Use Aer’s qasm_simulator\n",
    "simulator = AerSimulator()\n",
    "\n",
    "# compile the circuit down to low-level QASM instructions\n",
    "compiled_circuit = transpile(qc, simulator)\n",
    "\n",
    "# Execute the circuit on the qasm simulator\n",
    "job = simulator.run(compiled_circuit, shots=1000)\n",
    "\n",
    "# Grab results from the job\n",
    "result = job.result()\n",
    "out_state = result.get_statevector()\n",
    "\n",
    "print(rv(out_state.data,n))\n",
    "counts = result.get_counts()\n",
    "\n",
    "# we have to reverse the string in the dictionary counts\n",
    "answer = {}\n",
    "for str in counts:\n",
    "  answer[str[::-1]] = counts[str]\n",
    "\n",
    "print(answer)\n",
    "plot_histogram(answer)"
   ]
  },
  {
   "cell_type": "markdown",
   "metadata": {},
   "source": [
    "Experiment 4"
   ]
  },
  {
   "cell_type": "code",
   "execution_count": 18,
   "metadata": {
    "tags": []
   },
   "outputs": [],
   "source": [
    "# initialization\n",
    "import numpy as np\n",
    "\n",
    "# importing Qiskit\n",
    "# from qiskit import IBMQ\n",
    "from qiskit_aer import AerSimulator\n",
    "from qiskit import QuantumCircuit, transpile, quantum_info\n",
    "from qiskit import ClassicalRegister, QuantumRegister\n",
    "\n",
    "## for display\n",
    "from IPython.display import display\n",
    "\n",
    "# import basic plot tools\n",
    "from qiskit.visualization import plot_histogram"
   ]
  },
  {
   "cell_type": "code",
   "execution_count": 19,
   "metadata": {
    "tags": []
   },
   "outputs": [],
   "source": [
    "# reverse the bit sequence of the nb-bit integer t\n",
    "def rbits(t,nb):\n",
    "  m = nb-1\n",
    "  k = 0\n",
    "\n",
    "  while t > 0:\n",
    "    k |= (t & 1) << m\n",
    "    t >>= 1\n",
    "    m -= 1\n",
    "\n",
    "  return k\n",
    "\n",
    "# exchange the elements in the vector v based on the reverse bits of indices\n",
    "def rv(v,nb):\n",
    "  newv = np.copy(v)\n",
    "\n",
    "  for i in range(1<<nb):\n",
    "    ni = rbits(i,nb)\n",
    "    newv[i] = v[ni]\n",
    "\n",
    "  return newv\n",
    "\n",
    "# exchange the diagonal elements in the matrix m based on the reverse bits of indices\n",
    "def rdm(m, nb):\n",
    "  newm = np.copy(m)\n",
    "\n",
    "  for i in range(1<<nb):\n",
    "    ni = rbits(i,nb)\n",
    "    newm[i][i] = m[ni][ni]\n",
    "\n",
    "  return newm"
   ]
  },
  {
   "cell_type": "code",
   "execution_count": 22,
   "metadata": {
    "tags": []
   },
   "outputs": [
    {
     "data": {
      "text/plain": [
       "array([[ 1.+0.j,  0.+0.j,  0.+0.j,  0.+0.j,  0.+0.j,  0.+0.j,  0.+0.j,\n",
       "         0.+0.j],\n",
       "       [ 0.+0.j, -1.+0.j,  0.+0.j,  0.+0.j,  0.+0.j,  0.+0.j,  0.+0.j,\n",
       "         0.+0.j],\n",
       "       [ 0.+0.j,  0.+0.j,  1.+0.j,  0.+0.j,  0.+0.j,  0.+0.j,  0.+0.j,\n",
       "         0.+0.j],\n",
       "       [ 0.+0.j,  0.+0.j,  0.+0.j,  1.+0.j,  0.+0.j,  0.+0.j,  0.+0.j,\n",
       "         0.+0.j],\n",
       "       [ 0.+0.j,  0.+0.j,  0.+0.j,  0.+0.j,  1.+0.j,  0.+0.j,  0.+0.j,\n",
       "         0.+0.j],\n",
       "       [ 0.+0.j,  0.+0.j,  0.+0.j,  0.+0.j,  0.+0.j,  1.+0.j,  0.+0.j,\n",
       "         0.+0.j],\n",
       "       [ 0.+0.j,  0.+0.j,  0.+0.j,  0.+0.j,  0.+0.j,  0.+0.j,  1.+0.j,\n",
       "         0.+0.j],\n",
       "       [ 0.+0.j,  0.+0.j,  0.+0.j,  0.+0.j,  0.+0.j,  0.+0.j,  0.+0.j,\n",
       "         1.+0.j]])"
      ]
     },
     "metadata": {},
     "output_type": "display_data"
    },
    {
     "data": {
      "text/plain": [
       "array([[ 0.75+0.j, -0.25+0.j, -0.25+0.j, -0.25+0.j, -0.25+0.j, -0.25+0.j,\n",
       "        -0.25+0.j, -0.25+0.j],\n",
       "       [-0.25+0.j,  0.75+0.j, -0.25+0.j, -0.25+0.j, -0.25+0.j, -0.25+0.j,\n",
       "        -0.25+0.j, -0.25+0.j],\n",
       "       [-0.25+0.j, -0.25+0.j,  0.75+0.j, -0.25+0.j, -0.25+0.j, -0.25+0.j,\n",
       "        -0.25+0.j, -0.25+0.j],\n",
       "       [-0.25+0.j, -0.25+0.j, -0.25+0.j,  0.75+0.j, -0.25+0.j, -0.25+0.j,\n",
       "        -0.25+0.j, -0.25+0.j],\n",
       "       [-0.25+0.j, -0.25+0.j, -0.25+0.j, -0.25+0.j,  0.75+0.j, -0.25+0.j,\n",
       "        -0.25+0.j, -0.25+0.j],\n",
       "       [-0.25+0.j, -0.25+0.j, -0.25+0.j, -0.25+0.j, -0.25+0.j,  0.75+0.j,\n",
       "        -0.25+0.j, -0.25+0.j],\n",
       "       [-0.25+0.j, -0.25+0.j, -0.25+0.j, -0.25+0.j, -0.25+0.j, -0.25+0.j,\n",
       "         0.75+0.j, -0.25+0.j],\n",
       "       [-0.25+0.j, -0.25+0.j, -0.25+0.j, -0.25+0.j, -0.25+0.j, -0.25+0.j,\n",
       "        -0.25+0.j,  0.75+0.j]])"
      ]
     },
     "metadata": {},
     "output_type": "display_data"
    },
    {
     "data": {
      "image/png": "[encoded data removed]",
      "text/plain": [
       "<Figure size 538.33x284.278 with 1 Axes>"
      ]
     },
     "metadata": {},
     "output_type": "display_data"
    },
    {
     "data": {
      "text/plain": [
       "<qiskit.circuit.instructionset.InstructionSet at 0x7f49c87b97e0>"
      ]
     },
     "execution_count": 22,
     "metadata": {},
     "output_type": "execute_result"
    }
   ],
   "source": [
    "n = 3\n",
    "\n",
    "def Oracle(): ## select q0 q1 q2: 111\n",
    "    oc = QuantumCircuit(n)\n",
    "\n",
    "  # use ccx and H-gates to achieve ccz\n",
    "    oc.x(0)\n",
    "    oc.x(1)\n",
    "    oc.h(2)\n",
    "    oc.ccx(0,1,2)\n",
    "    oc.h(2)\n",
    "    oc.x(0)\n",
    "    oc.x(1)\n",
    "    display(rdm(quantum_info.Operator(oc).data,n))\n",
    "    return oc\n",
    "\n",
    "def A(nb): ## amplitude amplification via fliiping around the mean\n",
    "    ac = QuantumCircuit(nb)\n",
    "    ac.h(range(nb))\n",
    "    ac.x(range(nb))\n",
    "  # Do multi-controlled-Z gate\n",
    "    ac.h(nb-1)\n",
    "    ac.mcx(list(range(nb-1)), nb-1) # multi-controlled\n",
    "    ac.h(nb-1)\n",
    "    ac.x(range(nb))\n",
    "    ac.h(range(nb))\n",
    "    display(rdm(quantum_info.Operator(ac).data,n))\n",
    "    return ac\n",
    "\n",
    "qc = QuantumCircuit(n)\n",
    "\n",
    "qc.h(range(n))\n",
    "\n",
    "# construct the Oracle_Amplication circuits\n",
    "OA = QuantumCircuit(n)\n",
    "\n",
    "# query the Oracle\n",
    "OA.compose(Oracle(), inplace=True)\n",
    "\n",
    "# amplitude magnification\n",
    "OA.compose(A(n),inplace=True)\n",
    "\n",
    "# put the OA after the H-gates\n",
    "#qc.compose(OA,inplace=True)\n",
    "qc.compose( OA.repeat(2), inplace=True)\n",
    "\n",
    "# Draw the circuit\n",
    "display(qc.draw())\n",
    "\n",
    "# Do NOT call measure() because we want to see the probability amplitudes in the statevector\n",
    "#display(rdm(quantum_info.Operator(qc).data,n))\n",
    "qc.save_statevector()\n"
   ]
  },
  {
   "cell_type": "code",
   "execution_count": 23,
   "metadata": {
    "tags": []
   },
   "outputs": [
    {
     "name": "stdout",
     "output_type": "stream",
     "text": [
      "[-0.08838835+9.74200563e-17j  0.97227182-7.79360451e-16j\n",
      " -0.08838835+3.24733521e-17j -0.08838835+8.65956056e-17j\n",
      " -0.08838835+3.24733521e-17j -0.08838835+8.65956056e-17j\n",
      " -0.08838835+1.08244507e-17j -0.08838835+4.32978028e-17j]\n",
      "{'000': 0.0078125, '100': 0.0078125, '010': 0.0078125, '110': 0.0078125, '001': 0.9453125, '101': 0.0078125, '011': 0.0078125, '111': 0.0078125}\n"
     ]
    },
    {
     "data": {
      "image/png": "[encoded data removed]",
      "text/plain": [
       "<Figure size 700x500 with 1 Axes>"
      ]
     },
     "execution_count": 23,
     "metadata": {},
     "output_type": "execute_result"
    }
   ],
   "source": [
    "# Use Aer’s qasm_simulator\n",
    "simulator = AerSimulator()\n",
    "\n",
    "# compile the circuit down to low-level QASM instructions\n",
    "compiled_circuit = transpile(qc, simulator)\n",
    "\n",
    "# Execute the circuit on the qasm simulator\n",
    "job = simulator.run(compiled_circuit, shots=1000)\n",
    "\n",
    "# Grab results from the job\n",
    "result = job.result()\n",
    "out_state = result.get_statevector()\n",
    "\n",
    "print(rv(out_state.data,n))\n",
    "counts = result.get_counts()\n",
    "\n",
    "# we have to reverse the string in the dictionary counts\n",
    "answer = {}\n",
    "for str in counts:\n",
    "  answer[str[::-1]] = counts[str]\n",
    "\n",
    "print(answer)\n",
    "plot_histogram(answer)"
   ]
  },
  {
   "cell_type": "markdown",
   "metadata": {},
   "source": [
    "When we modify the Oracle such that it flips only the 001 state, we get the same results with experiment 3 but with the state we would like to find"
   ]
  },
  {
   "cell_type": "markdown",
   "metadata": {
    "id": "H_Z1m50VKvtU"
   },
   "source": [
    "# Run on the real-system"
   ]
  },
  {
   "cell_type": "code",
   "execution_count": 24,
   "metadata": {
    "id": "4RU2yC_5PI4C",
    "tags": []
   },
   "outputs": [],
   "source": [
    "from qiskit_ibm_runtime import QiskitRuntimeService, SamplerV2 as Sampler"
   ]
  },
  {
   "cell_type": "code",
   "execution_count": 25,
   "metadata": {
    "id": "QF7WKcZJMn8R",
    "tags": []
   },
   "outputs": [
    {
     "name": "stderr",
     "output_type": "stream",
     "text": [
      "qiskit_runtime_service.__init__:INFO:2024-04-24 13:29:28,178: Default instance: ibm-q/open/main\n"
     ]
    },
    {
     "data": {
      "text/plain": [
       "'ibm_kyoto'"
      ]
     },
     "execution_count": 25,
     "metadata": {},
     "output_type": "execute_result"
    }
   ],
   "source": [
    "service = QiskitRuntimeService(channel='ibm_quantum')\n",
    "backend = service.least_busy(operational=True, simulator=False)\n",
    "backend.name"
   ]
  },
  {
   "cell_type": "code",
   "execution_count": 26,
   "metadata": {
    "id": "6b86kcWgZ28r",
    "tags": []
   },
   "outputs": [
    {
     "data": {
      "image/png": "[encoded data removed]",
      "text/plain": [
       "<Figure size 1165.66x284.278 with 1 Axes>"
      ]
     },
     "metadata": {},
     "output_type": "display_data"
    }
   ],
   "source": [
    "n = 2\n",
    "\n",
    "def Oracle(): ## select 11\n",
    "  oc = QuantumCircuit(n)\n",
    "\n",
    "  # cz: control q0, target q1\n",
    "  oc.cz(0, 1)\n",
    "  return oc\n",
    "\n",
    "def A(): ## amplitude amplification via fliiping around the mean\n",
    "  ac = QuantumCircuit(2)\n",
    "  ac.h(range(2))\n",
    "  ac.z(range(2))\n",
    "  ac.cz(0,1)\n",
    "  ac.h(range(2))\n",
    "  return ac\n",
    "\n",
    "qc = QuantumCircuit(n)\n",
    "\n",
    "qc.h(range(n))\n",
    "qc.barrier()\n",
    "\n",
    "# query the Oracle: phase inversion\n",
    "qc.compose(Oracle(),inplace=True)\n",
    "qc.barrier()\n",
    "\n",
    "# amplitude magnification\n",
    "qc.compose(A(),inplace=True)\n",
    "qc.barrier()\n",
    "\n",
    "qc.measure_all()\n",
    "\n",
    "# Draw the circuit\n",
    "display(qc.draw())\n",
    "# qc.save_statevector()"
   ]
  },
  {
   "cell_type": "code",
   "execution_count": 27,
   "metadata": {
    "id": "uSxzMtAZLuI_",
    "tags": []
   },
   "outputs": [],
   "source": [
    "from qiskit.transpiler.preset_passmanagers import generate_preset_pass_manager\n",
    "\n",
    "target = backend.target\n",
    "pm = generate_preset_pass_manager(target=target, optimization_level=3)\n",
    "\n",
    "circuit_isa = pm.run(qc)"
   ]
  },
  {
   "cell_type": "code",
   "execution_count": 28,
   "metadata": {
    "tags": []
   },
   "outputs": [
    {
     "name": "stderr",
     "output_type": "stream",
     "text": [
      "base_primitive._run:INFO:2024-04-24 13:30:02,649: Submitting job using options {'options': {'default_shots': 1000}, 'version': 2, 'support_qiskit': True}\n",
      "/opt/conda/lib/python3.10/site-packages/qiskit_ibm_runtime/qiskit_runtime_service.py:878: UserWarning: Your current pending jobs are estimated to consume 649.5556236231932 quantum seconds, but you only have 598 quantum seconds left in your monthly quota; therefore, it is likely this job will be canceled\n",
      "  warnings.warn(warning_message)\n",
      "base_websocket_client.stream:INFO:2024-04-24 13:39:31,991: A websocket error occurred while streaming for job crmgjptx8bk0008yczt0. Connection closed with 1001.\n",
      "base_websocket_client.stream:INFO:2024-04-24 13:39:31,992: Retrying get_job_status via websocket after 0.5 seconds: Attempt #1\n",
      "base_websocket_client.stream:INFO:2024-04-24 13:58:43,243: A websocket error occurred while streaming for job crmgjptx8bk0008yczt0. Connection closed with 1006.\n",
      "Traceback (most recent call last):\n",
      "  File \"/opt/conda/lib/python3.10/site-packages/websocket/_app.py\", line 500, in setSock\n",
      "    dispatcher.read(self.sock.sock, read, check)\n",
      "  File \"/opt/conda/lib/python3.10/site-packages/websocket/_app.py\", line 112, in read\n",
      "    if not read_callback():\n",
      "  File \"/opt/conda/lib/python3.10/site-packages/websocket/_app.py\", line 523, in read\n",
      "    raise e\n",
      "  File \"/opt/conda/lib/python3.10/site-packages/websocket/_app.py\", line 515, in read\n",
      "    op_code, frame = self.sock.recv_data_frame(True)\n",
      "  File \"/opt/conda/lib/python3.10/site-packages/websocket/_core.py\", line 437, in recv_data_frame\n",
      "    frame = self.recv_frame()\n",
      "  File \"/opt/conda/lib/python3.10/site-packages/websocket/_core.py\", line 478, in recv_frame\n",
      "    return self.frame_buffer.recv_frame()\n",
      "  File \"/opt/conda/lib/python3.10/site-packages/websocket/_abnf.py\", line 363, in recv_frame\n",
      "    self.recv_header()\n",
      "  File \"/opt/conda/lib/python3.10/site-packages/websocket/_abnf.py\", line 319, in recv_header\n",
      "    header = self.recv_strict(2)\n",
      "  File \"/opt/conda/lib/python3.10/site-packages/websocket/_abnf.py\", line 398, in recv_strict\n",
      "    bytes_ = self.recv(min(16384, shortage))\n",
      "  File \"/opt/conda/lib/python3.10/site-packages/websocket/_core.py\", line 563, in _recv\n",
      "    return recv(self.sock, bufsize)\n",
      "  File \"/opt/conda/lib/python3.10/site-packages/websocket/_socket.py\", line 129, in recv\n",
      "    raise WebSocketConnectionClosedException(\"Connection to remote host was lost.\")\n",
      "websocket._exceptions.WebSocketConnectionClosedException: Connection to remote host was lost.\n",
      "\n",
      "base_websocket_client.stream:INFO:2024-04-24 13:58:43,245: Retrying get_job_status via websocket after 1.0 seconds: Attempt #2\n",
      "base_websocket_client.stream:INFO:2024-04-24 14:55:51,287: A websocket error occurred while streaming for job crmgjptx8bk0008yczt0. Connection closed with 1006.\n",
      "Traceback (most recent call last):\n",
      "  File \"/opt/conda/lib/python3.10/site-packages/websocket/_app.py\", line 500, in setSock\n",
      "    dispatcher.read(self.sock.sock, read, check)\n",
      "  File \"/opt/conda/lib/python3.10/site-packages/websocket/_app.py\", line 112, in read\n",
      "    if not read_callback():\n",
      "  File \"/opt/conda/lib/python3.10/site-packages/websocket/_app.py\", line 523, in read\n",
      "    raise e\n",
      "  File \"/opt/conda/lib/python3.10/site-packages/websocket/_app.py\", line 515, in read\n",
      "    op_code, frame = self.sock.recv_data_frame(True)\n",
      "  File \"/opt/conda/lib/python3.10/site-packages/websocket/_core.py\", line 437, in recv_data_frame\n",
      "    frame = self.recv_frame()\n",
      "  File \"/opt/conda/lib/python3.10/site-packages/websocket/_core.py\", line 478, in recv_frame\n",
      "    return self.frame_buffer.recv_frame()\n",
      "  File \"/opt/conda/lib/python3.10/site-packages/websocket/_abnf.py\", line 363, in recv_frame\n",
      "    self.recv_header()\n",
      "  File \"/opt/conda/lib/python3.10/site-packages/websocket/_abnf.py\", line 319, in recv_header\n",
      "    header = self.recv_strict(2)\n",
      "  File \"/opt/conda/lib/python3.10/site-packages/websocket/_abnf.py\", line 398, in recv_strict\n",
      "    bytes_ = self.recv(min(16384, shortage))\n",
      "  File \"/opt/conda/lib/python3.10/site-packages/websocket/_core.py\", line 563, in _recv\n",
      "    return recv(self.sock, bufsize)\n",
      "  File \"/opt/conda/lib/python3.10/site-packages/websocket/_socket.py\", line 129, in recv\n",
      "    raise WebSocketConnectionClosedException(\"Connection to remote host was lost.\")\n",
      "websocket._exceptions.WebSocketConnectionClosedException: Connection to remote host was lost.\n",
      "\n",
      "base_websocket_client.stream:INFO:2024-04-24 14:55:51,288: Retrying get_job_status via websocket after 2.0 seconds: Attempt #3\n",
      "base_websocket_client.stream:INFO:2024-04-24 14:56:14,122: A websocket error occurred while streaming for job crmgjptx8bk0008yczt0. Connection closed with 1006.\n",
      "Traceback (most recent call last):\n",
      "  File \"/opt/conda/lib/python3.10/site-packages/websocket/_app.py\", line 500, in setSock\n",
      "    dispatcher.read(self.sock.sock, read, check)\n",
      "  File \"/opt/conda/lib/python3.10/site-packages/websocket/_app.py\", line 112, in read\n",
      "    if not read_callback():\n",
      "  File \"/opt/conda/lib/python3.10/site-packages/websocket/_app.py\", line 523, in read\n",
      "    raise e\n",
      "  File \"/opt/conda/lib/python3.10/site-packages/websocket/_app.py\", line 515, in read\n",
      "    op_code, frame = self.sock.recv_data_frame(True)\n",
      "  File \"/opt/conda/lib/python3.10/site-packages/websocket/_core.py\", line 437, in recv_data_frame\n",
      "    frame = self.recv_frame()\n",
      "  File \"/opt/conda/lib/python3.10/site-packages/websocket/_core.py\", line 478, in recv_frame\n",
      "    return self.frame_buffer.recv_frame()\n",
      "  File \"/opt/conda/lib/python3.10/site-packages/websocket/_abnf.py\", line 363, in recv_frame\n",
      "    self.recv_header()\n",
      "  File \"/opt/conda/lib/python3.10/site-packages/websocket/_abnf.py\", line 319, in recv_header\n",
      "    header = self.recv_strict(2)\n",
      "  File \"/opt/conda/lib/python3.10/site-packages/websocket/_abnf.py\", line 398, in recv_strict\n",
      "    bytes_ = self.recv(min(16384, shortage))\n",
      "  File \"/opt/conda/lib/python3.10/site-packages/websocket/_core.py\", line 563, in _recv\n",
      "    return recv(self.sock, bufsize)\n",
      "  File \"/opt/conda/lib/python3.10/site-packages/websocket/_socket.py\", line 129, in recv\n",
      "    raise WebSocketConnectionClosedException(\"Connection to remote host was lost.\")\n",
      "websocket._exceptions.WebSocketConnectionClosedException: Connection to remote host was lost.\n",
      "\n",
      "base_websocket_client.stream:INFO:2024-04-24 14:56:14,123: Retrying get_job_status via websocket after 4.0 seconds: Attempt #4\n"
     ]
    }
   ],
   "source": [
    "sampler = Sampler(backend=backend)\n",
    "sampler.options.default_shots = 1000\n",
    "result = sampler.run([circuit_isa]).result()"
   ]
  },
  {
   "cell_type": "code",
   "execution_count": null,
   "metadata": {
    "tags": []
   },
   "outputs": [
    {
     "data": {
      "image/png": "[encoded data removed]",
      "text/plain": [
       "<Figure size 700x500 with 1 Axes>"
      ]
     },
     "execution_count": 29,
     "metadata": {},
     "output_type": "execute_result"
    }
   ],
   "source": [
    "dist = result[0].data.meas.get_counts()\n",
    "plot_histogram(dist)"
   ]
  },
  {
   "cell_type": "markdown",
   "metadata": {},
   "source": [
    "The results are different because of the noise\n",
    "It used 'ibm_kyoto' which has 127 qubits with the  Eagle r3 processor"
   ]
  },
  {
   "cell_type": "code",
   "execution_count": null,
   "metadata": {},
   "outputs": [],
   "source": []
  }
 ],
 "metadata": {
  "colab": {
   "provenance": []
  },
  "kernelspec": {
   "display_name": "Qiskit v1.0.2 (ipykernel)",
   "language": "python",
   "name": "python3"
  },
  "language_info": {
   "codemirror_mode": {
    "name": "ipython",
    "version": 3
   },
   "file_extension": ".py",
   "mimetype": "text/x-python",
   "name": "python",
   "nbconvert_exporter": "python",
   "pygments_lexer": "ipython3",
   "version": "3.10.8"
  },
  "widgets": {
   "application/vnd.jupyter.widget-state+json": {
    "state": {},
    "version_major": 2,
    "version_minor": 0
   }
  }
 },
 "nbformat": 4,
 "nbformat_minor": 4
}
